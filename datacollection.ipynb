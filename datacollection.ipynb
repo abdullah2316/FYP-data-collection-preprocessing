{
 "cells": [
  {
   "cell_type": "code",
   "execution_count": 1,
   "outputs": [],
   "source": [
    "import requests\n",
    "from bs4 import BeautifulSoup\n",
    "import pandas as pd\n",
    "from selenium import webdriver\n",
    "from selenium.webdriver.chrome.options import Options\n",
    "from selenium.webdriver.common.by import By\n",
    "from selenium.webdriver.support import expected_conditions as EC\n",
    "from selenium.webdriver.support.wait import WebDriverWait\n",
    "import time\n",
    "import base64\n",
    "from io import BytesIO\n",
    "from PIL import Image\n",
    "import requests\n",
    "import os\n",
    "import shutil\n",
    "import random"
   ],
   "metadata": {
    "collapsed": false,
    "pycharm": {
     "name": "#%%\n"
    }
   }
  },
  {
   "cell_type": "code",
   "execution_count": 80,
   "outputs": [
    {
     "name": "stderr",
     "output_type": "stream",
     "text": [
      "C:\\Users\\dell\\AppData\\Local\\Temp\\ipykernel_5748\\3378463292.py:2: DeprecationWarning: executable_path has been deprecated, please pass in a Service object\n",
      "  driver = webdriver.Chrome(executable_path=DRIVER_PATH)\n"
     ]
    }
   ],
   "source": [
    "DRIVER_PATH = '/path/to/chromedriver'\n",
    "driver = webdriver.Chrome(executable_path=DRIVER_PATH)\n",
    "# base_url='https://psl.org.pk/dictionary/category/'\n"
   ],
   "metadata": {
    "collapsed": false,
    "pycharm": {
     "name": "#%%\n"
    }
   }
  },
  {
   "cell_type": "code",
   "execution_count": 87,
   "outputs": [],
   "source": [
    "#excluding unwanted terms from classes\n",
    "file1 = open(\"dict.txt\", \"r\")\n",
    "dictionaryTerms=(file1.read()).split('\\n')\n",
    "file1.close()\n",
    "\n",
    "file2 = open(\"excludedTerms.txt\", \"r\")\n",
    "excludedTerms=(file2.read()).split('\\n')\n",
    "file2.close()\n",
    "\n",
    "classes=[x for x in dictionaryTerms if x not in excludedTerms]\n",
    "classes=classes[133:]\n",
    "# classes[459]\n",
    "#classes=['Eyeglasses','Shoe','Socks','Eggs','Wall Clock']\n",
    "# print(classes[131])\n"
   ],
   "metadata": {
    "collapsed": false,
    "pycharm": {
     "name": "#%%\n"
    }
   }
  },
  {
   "cell_type": "code",
   "execution_count": 17,
   "outputs": [],
   "source": [
    "def get_links(item:str)->list:\n",
    "    item=item.replace(' ','+')\n",
    "    base_url='https://www.google.com/search?rlz=1C1RLNS_enPK1029PK1029&sxsrf=AJOqlzVVNNSw1Vg1KScun73k7uuQyLzbtw:1677766795088&q='+item+'&tbm=isch&sa=X&ved=2ahUKEwiHydiuuL39AhVohf0HHW5ZBccQ0pQJegQIChAB&biw=1366&bih=625&dpr=1'\n",
    "    links=[]\n",
    "    driver.get(base_url)\n",
    "    driver.execute_script(\"window.scrollBy(0,1500)\")\n",
    "\n",
    "    elements=(driver.find_elements(By.CLASS_NAME, 'rg_i'))\n",
    "    for e in elements:\n",
    "        links.append(e.get_attribute('src'))\n",
    "    return links"
   ],
   "metadata": {
    "collapsed": false,
    "pycharm": {
     "name": "#%%\n"
    }
   }
  },
  {
   "cell_type": "code",
   "execution_count": 18,
   "outputs": [],
   "source": [
    "def separate_links(links):\n",
    "    downloadable=[]\n",
    "    base_64_images=[]\n",
    "    for i,link in enumerate(links):\n",
    "            if link is not None :\n",
    "                if 'base64' in link:\n",
    "                    base_64_images.append(i)\n",
    "                else:\n",
    "                    downloadable.append(i)\n",
    "    return downloadable,base_64_images"
   ],
   "metadata": {
    "collapsed": false,
    "pycharm": {
     "name": "#%%\n"
    }
   }
  },
  {
   "cell_type": "code",
   "execution_count": 19,
   "outputs": [],
   "source": [
    "\n",
    "def download_img(downloadable,links,path):\n",
    "    for index in downloadable:\n",
    "        response = requests.get(links[index])\n",
    "        with open(path+'/img'+str(index)+'.jpg', 'wb') as f:\n",
    "            f.write(response.content)"
   ],
   "metadata": {
    "collapsed": false,
    "pycharm": {
     "name": "#%%\n"
    }
   }
  },
  {
   "cell_type": "code",
   "execution_count": 20,
   "outputs": [],
   "source": [
    "\n",
    "def save_base64(base_64_images,links,path):\n",
    "    for index in base_64_images:\n",
    "        base64_image =links[index]\n",
    "        image_data = base64_image.split(',')[1]\n",
    "        decoded_image_data = base64.b64decode(image_data)\n",
    "        image_buffer = BytesIO(decoded_image_data)\n",
    "        image = Image.open(image_buffer)\n",
    "        image = image.convert('RGB')\n",
    "        image.save(path+'/img'+str(index)+\".jpg\", \"JPEG\")"
   ],
   "metadata": {
    "collapsed": false,
    "pycharm": {
     "name": "#%%\n"
    }
   }
  },
  {
   "cell_type": "code",
   "execution_count": 21,
   "outputs": [],
   "source": [
    "def make_directory(directory:str):\n",
    "    parent_dir = \"dataset/\"\n",
    "    path = os.path.join(parent_dir, directory)\n",
    "    os.mkdir(path)\n",
    "    return parent_dir+directory"
   ],
   "metadata": {
    "collapsed": false,
    "pycharm": {
     "name": "#%%\n"
    }
   }
  },
  {
   "cell_type": "code",
   "execution_count": 88,
   "outputs": [
    {
     "name": "stdout",
     "output_type": "stream",
     "text": [
      "downloaded images for Eyeglasses\n",
      "downloaded images for Frock\n",
      "downloaded images for Glasses\n",
      "downloaded images for Gloves\n",
      "downloaded images for Handkerchief\n",
      "downloaded images for Hat\n",
      "downloaded images for Jacket\n",
      "downloaded images for Jeans\n",
      "downloaded images for Jinnah Cap\n",
      "downloaded images for Kameez\n",
      "downloaded images for Khussa\n",
      "downloaded images for Kurta\n",
      "downloaded images for Necktie\n",
      "downloaded images for diaper\n",
      "downloaded images for Pant\n",
      "downloaded images for Purse\n",
      "downloaded images for Raincoat\n",
      "downloaded images for Sandals\n",
      "downloaded images for Sari\n",
      "downloaded images for School Uniform\n",
      "downloaded images for Shalwar-Kameez\n",
      "downloaded images for Sherwani\n",
      "downloaded images for Shirt\n",
      "downloaded images for Shoe\n",
      "downloaded images for Sindhi Cap\n",
      "downloaded images for Slippers\n",
      "downloaded images for Socks\n",
      "downloaded images for Sweater\n",
      "downloaded images for T-Shirt\n",
      "downloaded images for Waistcoat\n",
      "downloaded images for Wallet\n",
      "downloaded images for Watch\n",
      "downloaded images for Wrap\n",
      "downloaded images for Beef\n",
      "downloaded images for Bread\n",
      "downloaded images for Butter\n",
      "downloaded images for Cake\n",
      "downloaded images for Candy\n",
      "downloaded images for Chapati\n",
      "downloaded images for Cheese\n",
      "downloaded images for Chicken\n",
      "downloaded images for Chilli Sauce\n",
      "downloaded images for Potato Chips\n",
      "downloaded images for Chocolate\n",
      "downloaded images for Cookie\n",
      "downloaded images for Cooking Oil\n",
      "downloaded images for Dinner\n",
      "downloaded images for single white egg\n",
      "downloaded images for Flour\n",
      "downloaded images for French Fries\n",
      "downloaded images for Honey\n",
      "downloaded images for Jam\n",
      "downloaded images for Juggary\n",
      "downloaded images for Kandahari Naan\n",
      "downloaded images for Kidney Beans\n",
      "downloaded images for Kulcha\n",
      "downloaded images for Mutton\n",
      "downloaded images for Naan\n",
      "downloaded images for Noodle\n",
      "downloaded images for Omelette\n",
      "downloaded images for Paratha\n",
      "downloaded images for Puri\n",
      "downloaded images for Raspberry\n",
      "downloaded images for Rice\n",
      "downloaded images for Roghni Naan\n",
      "downloaded images for Roti\n",
      "downloaded images for Rusk\n",
      "downloaded images for Sandwich\n",
      "downloaded images for Sheermaal\n",
      "downloaded images for Sugar\n",
      "downloaded images for Syrup\n",
      "downloaded images for Vermicelli\n",
      "downloaded images for Arhar Daal\n",
      "downloaded images for Barfi\n",
      "downloaded images for Biryani\n",
      "downloaded images for Burger\n",
      "downloaded images for Chana Chaat\n",
      "downloaded images for Channay Ki Daal\n",
      "downloaded images for Custard\n",
      "downloaded images for Dahi Baray\n",
      "downloaded images for Faluda\n",
      "downloaded images for Firni\n",
      "downloaded images for Fruit Chaat\n",
      "downloaded images for Gulab Jamun\n",
      "downloaded images for Haleem\n",
      "downloaded images for Halwa Puri\n",
      "downloaded images for Ice Cream\n",
      "downloaded images for Jalebi\n",
      "downloaded images for jelly images\n",
      "downloaded images for Kabab\n",
      "downloaded images for Kheer\n",
      "downloaded images for Korma\n",
      "downloaded images for Kulfi\n",
      "downloaded images for Mash Daal\n",
      "downloaded images for Masoor Ki Daal\n",
      "downloaded images for Mince\n",
      "downloaded images for Moong Ki Daal\n",
      "downloaded images for Nihari\n",
      "downloaded images for Paey\n",
      "downloaded images for Pakoray\n",
      "downloaded images for Panjiri\n",
      "downloaded images for Pizza\n",
      "downloaded images for Pudding\n",
      "downloaded images for Pulao\n",
      "downloaded images for Rabri\n",
      "downloaded images for Rasmalai\n",
      "downloaded images for Saag\n",
      "downloaded images for Sabut Masoor\n",
      "downloaded images for Sabut Moong Ki Daal\n",
      "downloaded images for Salad\n",
      "downloaded images for Samosa\n",
      "downloaded images for Shahi Tukray\n",
      "downloaded images for Sheer Khorma\n",
      "downloaded images for Soup\n",
      "downloaded images for Spaghetti\n",
      "downloaded images for Yoghurt\n",
      "downloaded images for Zarda\n",
      "downloaded images for Aquarium\n",
      "downloaded images for Chandelier\n",
      "downloaded images for Curtains\n",
      "downloaded images for Cushion\n",
      "downloaded images for Rug\n",
      "downloaded images for Sofa\n",
      "downloaded images for Tissue Box\n",
      "downloaded images for Vase\n",
      "downloaded images for Wall Clock\n",
      "downloaded images for Barbeque Grill\n",
      "downloaded images for Basin\n",
      "downloaded images for Bottle Opener\n",
      "downloaded images for Bowl\n",
      "downloaded images for Butter Knife\n",
      "downloaded images for Kitchen Cabinet\n",
      "downloaded images for Can\n",
      "downloaded images for Candle\n",
      "downloaded images for Colander\n",
      "downloaded images for Cup\n",
      "downloaded images for Cutting Board\n",
      "downloaded images for Dish (Plate)\n",
      "downloaded images for Dish Rack\n",
      "downloaded images for Dish Soap\n",
      "downloaded images for Dusting Cloth\n",
      "downloaded images for Feeding Bottle\n",
      "downloaded images for Fire\n",
      "downloaded images for Flour Sieve\n",
      "downloaded images for Fork\n",
      "downloaded images for Frying Pan\n",
      "downloaded images for Glass(drinking)\n",
      "downloaded images for Grater\n",
      "downloaded images for Handi\n",
      "downloaded images for Jar\n",
      "downloaded images for Jug\n",
      "downloaded images for Kettle\n",
      "downloaded images for Kitchen\n",
      "downloaded images for Knife\n",
      "downloaded images for Ladle\n",
      "downloaded images for matches box\n",
      "downloaded images for Matches\n",
      "downloaded images for Mortar And Pestle\n",
      "downloaded images for Mug\n",
      "downloaded images for Oven\n",
      "downloaded images for Pan\n",
      "downloaded images for Peeler\n",
      "downloaded images for Plate\n",
      "downloaded images for Pot\n",
      "downloaded images for Pressure Cooker\n",
      "downloaded images for Rolling Pin\n",
      "downloaded images for Sauce Pan\n",
      "downloaded images for Shelf\n",
      "downloaded images for Sponge\n",
      "downloaded images for Spoon\n",
      "downloaded images for Stove\n",
      "downloaded images for Strainer\n",
      "downloaded images for Thermos\n",
      "downloaded images for Tray\n",
      "downloaded images for Whisk\n"
     ]
    }
   ],
   "source": [
    "for class_ in classes:\n",
    "    image_links=get_links(class_)[:50]\n",
    "    d,b64=separate_links(image_links)\n",
    "    img_path=make_directory(class_)\n",
    "    save_base64(b64,image_links,img_path)\n",
    "    download_img(d,image_links,img_path)\n",
    "    print('downloaded images for '+class_)"
   ],
   "metadata": {
    "collapsed": false,
    "pycharm": {
     "name": "#%%\n"
    }
   }
  },
  {
   "cell_type": "markdown",
   "source": [
    "## Cropping data to (224,224)"
   ],
   "metadata": {
    "collapsed": false,
    "pycharm": {
     "name": "#%% md\n"
    }
   }
  },
  {
   "cell_type": "code",
   "execution_count": 89,
   "outputs": [],
   "source": [
    "from tensorflow.keras.preprocessing.image import load_img, img_to_array\n",
    "import os\n",
    "from PIL import Image\n",
    "\n",
    "# Define the target size\n",
    "target_size = (224, 224)\n",
    "\n",
    "# Define the source and destination folders\n",
    "src_folder = \"dataset\"\n",
    "dst_folder = \"cropped\"\n",
    "\n",
    "# Loop through all files in the source folder\n",
    "for filename in os.listdir(src_folder):\n",
    "    for image_name in os.listdir(os.path.join(src_folder, filename)):\n",
    "        try:\n",
    "            # Load the image file using Keras' load_img function\n",
    "            img = load_img(os.path.join(src_folder, filename, image_name), target_size=target_size)\n",
    "\n",
    "            # Convert the image to a numpy array\n",
    "            img = img_to_array(img)\n",
    "\n",
    "            # Convert the numpy array back to a PIL Image object\n",
    "            img = Image.fromarray(img.astype('uint8'))\n",
    "\n",
    "            # Save the image to the destination folder\n",
    "            os.makedirs(os.path.join(dst_folder, filename), exist_ok=True)\n",
    "            img.save(os.path.join(dst_folder, filename, image_name))\n",
    "        except Exception as e:\n",
    "            print(f\"Error processing image {image_name} in folder {filename}: {e}\")\n"
   ],
   "metadata": {
    "collapsed": false,
    "pycharm": {
     "name": "#%%\n"
    }
   }
  },
  {
   "cell_type": "markdown",
   "source": [
    "## Data Normalization"
   ],
   "metadata": {
    "collapsed": false,
    "pycharm": {
     "name": "#%% md\n"
    }
   }
  },
  {
   "cell_type": "code",
   "execution_count": null,
   "outputs": [],
   "source": [],
   "metadata": {
    "collapsed": false,
    "pycharm": {
     "name": "#%%\n"
    }
   }
  },
  {
   "cell_type": "markdown",
   "source": [
    "## SPLITTING INTO TRAIN AND TEST DATA (60-40)"
   ],
   "metadata": {
    "collapsed": false,
    "pycharm": {
     "name": "#%% md\n"
    }
   }
  },
  {
   "cell_type": "code",
   "execution_count": 3,
   "outputs": [
    {
     "ename": "NameError",
     "evalue": "name 'random' is not defined",
     "output_type": "error",
     "traceback": [
      "\u001B[1;31m---------------------------------------------------------------------------\u001B[0m",
      "\u001B[1;31mNameError\u001B[0m                                 Traceback (most recent call last)",
      "Input \u001B[1;32mIn [3]\u001B[0m, in \u001B[0;36m<module>\u001B[1;34m\u001B[0m\n\u001B[0;32m     23\u001B[0m image_list \u001B[38;5;241m=\u001B[39m os\u001B[38;5;241m.\u001B[39mlistdir(class_dir)\n\u001B[0;32m     25\u001B[0m \u001B[38;5;66;03m# Shuffle the list of image file names\u001B[39;00m\n\u001B[1;32m---> 26\u001B[0m \u001B[43mrandom\u001B[49m\u001B[38;5;241m.\u001B[39mshuffle(image_list)\n\u001B[0;32m     28\u001B[0m \u001B[38;5;66;03m# Split the image list into training and validation sets\u001B[39;00m\n\u001B[0;32m     29\u001B[0m split_index \u001B[38;5;241m=\u001B[39m \u001B[38;5;28mint\u001B[39m(\u001B[38;5;28mlen\u001B[39m(image_list) \u001B[38;5;241m*\u001B[39m split_ratio)\n",
      "\u001B[1;31mNameError\u001B[0m: name 'random' is not defined"
     ]
    }
   ],
   "source": [
    "\n",
    "# Set the root directory of your dataset\n",
    "data_dir = 'dataset'\n",
    "\n",
    "# Set the directory where you want to store the split dataset\n",
    "split_dir = 'splitted'\n",
    "\n",
    "# Create directories for the split dataset\n",
    "os.makedirs(os.path.join(split_dir, 'train'), exist_ok=True)\n",
    "os.makedirs(os.path.join(split_dir, 'val'), exist_ok=True)\n",
    "\n",
    "# Set the percentage split\n",
    "split_ratio = 0.6\n",
    "\n",
    "# Loop through each class in the dataset\n",
    "for class_name in os.listdir(data_dir):\n",
    "    class_dir = os.path.join(data_dir, class_name)\n",
    "\n",
    "    # Create a directory for the class in the split dataset\n",
    "    os.makedirs(os.path.join(split_dir, 'train', class_name), exist_ok=True)\n",
    "    os.makedirs(os.path.join(split_dir, 'val', class_name), exist_ok=True)\n",
    "\n",
    "    # Get a list of image file names for the class\n",
    "    image_list = os.listdir(class_dir)\n",
    "\n",
    "    # Shuffle the list of image file names\n",
    "    random.shuffle(image_list)\n",
    "\n",
    "    # Split the image list into training and validation sets\n",
    "    split_index = int(len(image_list) * split_ratio)\n",
    "    train_images = image_list[:split_index]\n",
    "    val_images = image_list[split_index:]\n",
    "\n",
    "    # Copy the training images to the split dataset\n",
    "    for image_name in train_images:\n",
    "        src_path = os.path.join(class_dir, image_name)\n",
    "        dst_path = os.path.join(split_dir, 'train', class_name, image_name)\n",
    "        shutil.copy(src_path, dst_path)\n",
    "\n",
    "    # Copy the validation images to the split dataset\n",
    "    for image_name in val_images:\n",
    "        src_path = os.path.join(class_dir, image_name)\n",
    "        dst_path = os.path.join(split_dir, 'val', class_name, image_name)\n",
    "        shutil.copy(src_path, dst_path)"
   ],
   "metadata": {
    "collapsed": false,
    "pycharm": {
     "name": "#%%\n"
    }
   }
  },
  {
   "cell_type": "code",
   "execution_count": null,
   "outputs": [],
   "source": [],
   "metadata": {
    "collapsed": false,
    "pycharm": {
     "name": "#%%\n"
    }
   }
  }
 ],
 "metadata": {
  "kernelspec": {
   "display_name": "Python 3",
   "language": "python",
   "name": "python3"
  },
  "language_info": {
   "codemirror_mode": {
    "name": "ipython",
    "version": 2
   },
   "file_extension": ".py",
   "mimetype": "text/x-python",
   "name": "python",
   "nbconvert_exporter": "python",
   "pygments_lexer": "ipython2",
   "version": "2.7.6"
  }
 },
 "nbformat": 4,
 "nbformat_minor": 0
}